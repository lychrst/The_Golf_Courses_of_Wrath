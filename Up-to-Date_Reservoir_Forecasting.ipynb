{
 "cells": [
  {
   "cell_type": "code",
   "execution_count": 1,
   "id": "214dea5f",
   "metadata": {},
   "outputs": [
    {
     "name": "stderr",
     "output_type": "stream",
     "text": [
      "C:\\Users\\eincr\\anaconda3\\lib\\site-packages\\scipy\\__init__.py:146: UserWarning: A NumPy version >=1.16.5 and <1.23.0 is required for this version of SciPy (detected version 1.23.1\n",
      "  warnings.warn(f\"A NumPy version >={np_minversion} and <{np_maxversion}\"\n"
     ]
    }
   ],
   "source": [
    "# Use functions from .py file\n",
    "%load_ext autoreload\n",
    "%autoreload 2\n",
    "import os\n",
    "import sys\n",
    "module_path = os.path.abspath(os.path.join(os.pardir))\n",
    "if module_path not in sys.path:\n",
    "    sys.path.append(module_path)\n",
    "\n",
    "import src.functions as funcs"
   ]
  },
  {
   "cell_type": "code",
   "execution_count": 2,
   "id": "f788e29c",
   "metadata": {},
   "outputs": [],
   "source": [
    "import requests\n",
    "import pandas as pd\n",
    "url1 = 'https://www.usbr.gov/uc/water/hydrodata/reservoir_data/921/csv/17.csv'\n",
    "r1 = requests.get(url1)\n",
    "open('mead.csv', \"wb\").write(r1.content)\n",
    "Lake_Mead = pd.read_csv('mead.csv')"
   ]
  },
  {
   "cell_type": "code",
   "execution_count": 3,
   "id": "f4108485",
   "metadata": {},
   "outputs": [
    {
     "data": {
      "text/html": [
       "<div>\n",
       "<style scoped>\n",
       "    .dataframe tbody tr th:only-of-type {\n",
       "        vertical-align: middle;\n",
       "    }\n",
       "\n",
       "    .dataframe tbody tr th {\n",
       "        vertical-align: top;\n",
       "    }\n",
       "\n",
       "    .dataframe thead th {\n",
       "        text-align: right;\n",
       "    }\n",
       "</style>\n",
       "<table border=\"1\" class=\"dataframe\">\n",
       "  <thead>\n",
       "    <tr style=\"text-align: right;\">\n",
       "      <th></th>\n",
       "      <th>datetime</th>\n",
       "      <th>storage</th>\n",
       "    </tr>\n",
       "  </thead>\n",
       "  <tbody>\n",
       "    <tr>\n",
       "      <th>0</th>\n",
       "      <td>1937-05-28</td>\n",
       "      <td>10046048.3</td>\n",
       "    </tr>\n",
       "    <tr>\n",
       "      <th>1</th>\n",
       "      <td>1937-05-29</td>\n",
       "      <td>10138665.0</td>\n",
       "    </tr>\n",
       "    <tr>\n",
       "      <th>2</th>\n",
       "      <td>1937-05-30</td>\n",
       "      <td>10228958.7</td>\n",
       "    </tr>\n",
       "    <tr>\n",
       "      <th>3</th>\n",
       "      <td>1937-05-31</td>\n",
       "      <td>10302056.6</td>\n",
       "    </tr>\n",
       "    <tr>\n",
       "      <th>4</th>\n",
       "      <td>1937-06-01</td>\n",
       "      <td>10373112.5</td>\n",
       "    </tr>\n",
       "  </tbody>\n",
       "</table>\n",
       "</div>"
      ],
      "text/plain": [
       "     datetime     storage\n",
       "0  1937-05-28  10046048.3\n",
       "1  1937-05-29  10138665.0\n",
       "2  1937-05-30  10228958.7\n",
       "3  1937-05-31  10302056.6\n",
       "4  1937-06-01  10373112.5"
      ]
     },
     "execution_count": 3,
     "metadata": {},
     "output_type": "execute_result"
    }
   ],
   "source": [
    "Lake_Mead.head()"
   ]
  },
  {
   "cell_type": "code",
   "execution_count": 4,
   "id": "4c74b1c6",
   "metadata": {},
   "outputs": [],
   "source": [
    "url2 = 'https://www.usbr.gov/uc/water/hydrodata/reservoir_data/919/csv/17.csv'\n",
    "r2 = requests.get(url2)\n",
    "open('powell.csv', \"wb\").write(r2.content)\n",
    "Lake_Powell = pd.read_csv('powell.csv')"
   ]
  },
  {
   "cell_type": "code",
   "execution_count": 5,
   "id": "9a510089",
   "metadata": {},
   "outputs": [
    {
     "data": {
      "text/html": [
       "<div>\n",
       "<style scoped>\n",
       "    .dataframe tbody tr th:only-of-type {\n",
       "        vertical-align: middle;\n",
       "    }\n",
       "\n",
       "    .dataframe tbody tr th {\n",
       "        vertical-align: top;\n",
       "    }\n",
       "\n",
       "    .dataframe thead th {\n",
       "        text-align: right;\n",
       "    }\n",
       "</style>\n",
       "<table border=\"1\" class=\"dataframe\">\n",
       "  <thead>\n",
       "    <tr style=\"text-align: right;\">\n",
       "      <th></th>\n",
       "      <th>datetime</th>\n",
       "      <th>storage</th>\n",
       "    </tr>\n",
       "  </thead>\n",
       "  <tbody>\n",
       "    <tr>\n",
       "      <th>0</th>\n",
       "      <td>1963-06-28</td>\n",
       "      <td>0.0</td>\n",
       "    </tr>\n",
       "    <tr>\n",
       "      <th>1</th>\n",
       "      <td>1963-06-29</td>\n",
       "      <td>5400.0</td>\n",
       "    </tr>\n",
       "    <tr>\n",
       "      <th>2</th>\n",
       "      <td>1963-06-30</td>\n",
       "      <td>7400.0</td>\n",
       "    </tr>\n",
       "    <tr>\n",
       "      <th>3</th>\n",
       "      <td>1963-07-01</td>\n",
       "      <td>9400.0</td>\n",
       "    </tr>\n",
       "    <tr>\n",
       "      <th>4</th>\n",
       "      <td>1963-07-02</td>\n",
       "      <td>13400.0</td>\n",
       "    </tr>\n",
       "  </tbody>\n",
       "</table>\n",
       "</div>"
      ],
      "text/plain": [
       "     datetime  storage\n",
       "0  1963-06-28      0.0\n",
       "1  1963-06-29   5400.0\n",
       "2  1963-06-30   7400.0\n",
       "3  1963-07-01   9400.0\n",
       "4  1963-07-02  13400.0"
      ]
     },
     "execution_count": 5,
     "metadata": {},
     "output_type": "execute_result"
    }
   ],
   "source": [
    "Lake_Powell.head()"
   ]
  },
  {
   "cell_type": "code",
   "execution_count": 6,
   "id": "af54d50c",
   "metadata": {},
   "outputs": [],
   "source": [
    "url3 = 'https://www.usbr.gov/uc/water/hydrodata/reservoir_data/923/csv/17.csv'\n",
    "r3 = requests.get(url3)\n",
    "open('Lake_Havasu.csv', \"wb\").write(r3.content)\n",
    "Lake_Havasu = pd.read_csv('Lake_Havasu.csv')"
   ]
  },
  {
   "cell_type": "code",
   "execution_count": 7,
   "id": "86161f51",
   "metadata": {},
   "outputs": [
    {
     "data": {
      "text/html": [
       "<div>\n",
       "<style scoped>\n",
       "    .dataframe tbody tr th:only-of-type {\n",
       "        vertical-align: middle;\n",
       "    }\n",
       "\n",
       "    .dataframe tbody tr th {\n",
       "        vertical-align: top;\n",
       "    }\n",
       "\n",
       "    .dataframe thead th {\n",
       "        text-align: right;\n",
       "    }\n",
       "</style>\n",
       "<table border=\"1\" class=\"dataframe\">\n",
       "  <thead>\n",
       "    <tr style=\"text-align: right;\">\n",
       "      <th></th>\n",
       "      <th>datetime</th>\n",
       "      <th>storage</th>\n",
       "    </tr>\n",
       "  </thead>\n",
       "  <tbody>\n",
       "    <tr>\n",
       "      <th>0</th>\n",
       "      <td>1938-10-01</td>\n",
       "      <td>24900.0</td>\n",
       "    </tr>\n",
       "    <tr>\n",
       "      <th>1</th>\n",
       "      <td>1938-10-02</td>\n",
       "      <td>24900.0</td>\n",
       "    </tr>\n",
       "    <tr>\n",
       "      <th>2</th>\n",
       "      <td>1938-10-03</td>\n",
       "      <td>24700.0</td>\n",
       "    </tr>\n",
       "    <tr>\n",
       "      <th>3</th>\n",
       "      <td>1938-10-04</td>\n",
       "      <td>24700.0</td>\n",
       "    </tr>\n",
       "    <tr>\n",
       "      <th>4</th>\n",
       "      <td>1938-10-05</td>\n",
       "      <td>24300.0</td>\n",
       "    </tr>\n",
       "  </tbody>\n",
       "</table>\n",
       "</div>"
      ],
      "text/plain": [
       "     datetime  storage\n",
       "0  1938-10-01  24900.0\n",
       "1  1938-10-02  24900.0\n",
       "2  1938-10-03  24700.0\n",
       "3  1938-10-04  24700.0\n",
       "4  1938-10-05  24300.0"
      ]
     },
     "execution_count": 7,
     "metadata": {},
     "output_type": "execute_result"
    }
   ],
   "source": [
    "Lake_Havasu.head()"
   ]
  },
  {
   "cell_type": "code",
   "execution_count": 8,
   "id": "74a61c4b",
   "metadata": {},
   "outputs": [],
   "source": [
    "url4 = 'https://www.usbr.gov/uc/water/hydrodata/reservoir_data/922/csv/17.csv'\n",
    "r4 = requests.get(url4)\n",
    "open('Lake_Mohave.csv', \"wb\").write(r4.content)\n",
    "Lake_Mohave = pd.read_csv('Lake_Mohave.csv')"
   ]
  },
  {
   "cell_type": "code",
   "execution_count": 9,
   "id": "871d1a57",
   "metadata": {},
   "outputs": [
    {
     "data": {
      "text/html": [
       "<div>\n",
       "<style scoped>\n",
       "    .dataframe tbody tr th:only-of-type {\n",
       "        vertical-align: middle;\n",
       "    }\n",
       "\n",
       "    .dataframe tbody tr th {\n",
       "        vertical-align: top;\n",
       "    }\n",
       "\n",
       "    .dataframe thead th {\n",
       "        text-align: right;\n",
       "    }\n",
       "</style>\n",
       "<table border=\"1\" class=\"dataframe\">\n",
       "  <thead>\n",
       "    <tr style=\"text-align: right;\">\n",
       "      <th></th>\n",
       "      <th>datetime</th>\n",
       "      <th>storage</th>\n",
       "    </tr>\n",
       "  </thead>\n",
       "  <tbody>\n",
       "    <tr>\n",
       "      <th>0</th>\n",
       "      <td>1950-02-02</td>\n",
       "      <td>220200.0</td>\n",
       "    </tr>\n",
       "    <tr>\n",
       "      <th>1</th>\n",
       "      <td>1950-02-03</td>\n",
       "      <td>224700.0</td>\n",
       "    </tr>\n",
       "    <tr>\n",
       "      <th>2</th>\n",
       "      <td>1950-02-04</td>\n",
       "      <td>223500.0</td>\n",
       "    </tr>\n",
       "    <tr>\n",
       "      <th>3</th>\n",
       "      <td>1950-02-05</td>\n",
       "      <td>218000.0</td>\n",
       "    </tr>\n",
       "    <tr>\n",
       "      <th>4</th>\n",
       "      <td>1950-02-06</td>\n",
       "      <td>219200.0</td>\n",
       "    </tr>\n",
       "  </tbody>\n",
       "</table>\n",
       "</div>"
      ],
      "text/plain": [
       "     datetime   storage\n",
       "0  1950-02-02  220200.0\n",
       "1  1950-02-03  224700.0\n",
       "2  1950-02-04  223500.0\n",
       "3  1950-02-05  218000.0\n",
       "4  1950-02-06  219200.0"
      ]
     },
     "execution_count": 9,
     "metadata": {},
     "output_type": "execute_result"
    }
   ],
   "source": [
    "Lake_Mohave.head()"
   ]
  },
  {
   "cell_type": "code",
   "execution_count": 10,
   "id": "c7254219",
   "metadata": {},
   "outputs": [],
   "source": [
    "url5 = 'https://www.usbr.gov/uc/water/hydrodata/reservoir_data/3083/csv/17.csv'\n",
    "r5 = requests.get(url5)\n",
    "open('Lake_Nighthorse.csv', \"wb\").write(r5.content)\n",
    "Lake_Nighthorse = pd.read_csv('Lake_Nighthorse.csv')"
   ]
  },
  {
   "cell_type": "code",
   "execution_count": 11,
   "id": "178fea30",
   "metadata": {},
   "outputs": [
    {
     "data": {
      "text/html": [
       "<div>\n",
       "<style scoped>\n",
       "    .dataframe tbody tr th:only-of-type {\n",
       "        vertical-align: middle;\n",
       "    }\n",
       "\n",
       "    .dataframe tbody tr th {\n",
       "        vertical-align: top;\n",
       "    }\n",
       "\n",
       "    .dataframe thead th {\n",
       "        text-align: right;\n",
       "    }\n",
       "</style>\n",
       "<table border=\"1\" class=\"dataframe\">\n",
       "  <thead>\n",
       "    <tr style=\"text-align: right;\">\n",
       "      <th></th>\n",
       "      <th>datetime</th>\n",
       "      <th>storage</th>\n",
       "    </tr>\n",
       "  </thead>\n",
       "  <tbody>\n",
       "    <tr>\n",
       "      <th>0</th>\n",
       "      <td>2009-06-09</td>\n",
       "      <td>171.0</td>\n",
       "    </tr>\n",
       "    <tr>\n",
       "      <th>1</th>\n",
       "      <td>2009-06-10</td>\n",
       "      <td>736.0</td>\n",
       "    </tr>\n",
       "    <tr>\n",
       "      <th>2</th>\n",
       "      <td>2009-06-11</td>\n",
       "      <td>1271.0</td>\n",
       "    </tr>\n",
       "    <tr>\n",
       "      <th>3</th>\n",
       "      <td>2009-06-12</td>\n",
       "      <td>1866.0</td>\n",
       "    </tr>\n",
       "    <tr>\n",
       "      <th>4</th>\n",
       "      <td>2009-06-13</td>\n",
       "      <td>2335.0</td>\n",
       "    </tr>\n",
       "  </tbody>\n",
       "</table>\n",
       "</div>"
      ],
      "text/plain": [
       "     datetime  storage\n",
       "0  2009-06-09    171.0\n",
       "1  2009-06-10    736.0\n",
       "2  2009-06-11   1271.0\n",
       "3  2009-06-12   1866.0\n",
       "4  2009-06-13   2335.0"
      ]
     },
     "execution_count": 11,
     "metadata": {},
     "output_type": "execute_result"
    }
   ],
   "source": [
    "Lake_Nighthorse.head()"
   ]
  },
  {
   "cell_type": "code",
   "execution_count": 12,
   "id": "c2e9393a",
   "metadata": {},
   "outputs": [],
   "source": [
    "url6 = 'https://www.usbr.gov/uc/water/hydrodata/reservoir_data/100010/csv/17.csv'\n",
    "r6 = requests.get(url6)\n",
    "open('Granby_Reservoir.csv', \"wb\").write(r6.content)\n",
    "Granby_Reservoir = pd.read_csv('Granby_Reservoir.csv')"
   ]
  },
  {
   "cell_type": "code",
   "execution_count": 13,
   "id": "201b3b49",
   "metadata": {},
   "outputs": [
    {
     "data": {
      "text/html": [
       "<div>\n",
       "<style scoped>\n",
       "    .dataframe tbody tr th:only-of-type {\n",
       "        vertical-align: middle;\n",
       "    }\n",
       "\n",
       "    .dataframe tbody tr th {\n",
       "        vertical-align: top;\n",
       "    }\n",
       "\n",
       "    .dataframe thead th {\n",
       "        text-align: right;\n",
       "    }\n",
       "</style>\n",
       "<table border=\"1\" class=\"dataframe\">\n",
       "  <thead>\n",
       "    <tr style=\"text-align: right;\">\n",
       "      <th></th>\n",
       "      <th>datetime</th>\n",
       "      <th>storage</th>\n",
       "    </tr>\n",
       "  </thead>\n",
       "  <tbody>\n",
       "    <tr>\n",
       "      <th>0</th>\n",
       "      <td>1951-09-01</td>\n",
       "      <td>296136.0</td>\n",
       "    </tr>\n",
       "    <tr>\n",
       "      <th>1</th>\n",
       "      <td>1951-09-02</td>\n",
       "      <td>296405.0</td>\n",
       "    </tr>\n",
       "    <tr>\n",
       "      <th>2</th>\n",
       "      <td>1951-09-03</td>\n",
       "      <td>296567.0</td>\n",
       "    </tr>\n",
       "    <tr>\n",
       "      <th>3</th>\n",
       "      <td>1951-09-04</td>\n",
       "      <td>296729.0</td>\n",
       "    </tr>\n",
       "    <tr>\n",
       "      <th>4</th>\n",
       "      <td>1951-09-05</td>\n",
       "      <td>296890.0</td>\n",
       "    </tr>\n",
       "  </tbody>\n",
       "</table>\n",
       "</div>"
      ],
      "text/plain": [
       "     datetime   storage\n",
       "0  1951-09-01  296136.0\n",
       "1  1951-09-02  296405.0\n",
       "2  1951-09-03  296567.0\n",
       "3  1951-09-04  296729.0\n",
       "4  1951-09-05  296890.0"
      ]
     },
     "execution_count": 13,
     "metadata": {},
     "output_type": "execute_result"
    }
   ],
   "source": [
    "Granby_Reservoir.head()"
   ]
  },
  {
   "cell_type": "code",
   "execution_count": 14,
   "id": "86bd6017",
   "metadata": {},
   "outputs": [],
   "source": [
    "url7 = 'https://www.usbr.gov/uc/water/hydrodata/reservoir_data/915/csv/17.csv'\n",
    "r7 = requests.get(url7)\n",
    "open('Crystal_Reservoir.csv', \"wb\").write(r7.content)\n",
    "Crystal_Reservoir = pd.read_csv('Crystal_Reservoir.csv')"
   ]
  },
  {
   "cell_type": "code",
   "execution_count": 15,
   "id": "189f9398",
   "metadata": {},
   "outputs": [
    {
     "data": {
      "text/html": [
       "<div>\n",
       "<style scoped>\n",
       "    .dataframe tbody tr th:only-of-type {\n",
       "        vertical-align: middle;\n",
       "    }\n",
       "\n",
       "    .dataframe tbody tr th {\n",
       "        vertical-align: top;\n",
       "    }\n",
       "\n",
       "    .dataframe thead th {\n",
       "        text-align: right;\n",
       "    }\n",
       "</style>\n",
       "<table border=\"1\" class=\"dataframe\">\n",
       "  <thead>\n",
       "    <tr style=\"text-align: right;\">\n",
       "      <th></th>\n",
       "      <th>datetime</th>\n",
       "      <th>storage</th>\n",
       "    </tr>\n",
       "  </thead>\n",
       "  <tbody>\n",
       "    <tr>\n",
       "      <th>0</th>\n",
       "      <td>1977-03-13</td>\n",
       "      <td>38.000000</td>\n",
       "    </tr>\n",
       "    <tr>\n",
       "      <th>1</th>\n",
       "      <td>1977-03-14</td>\n",
       "      <td>72.846298</td>\n",
       "    </tr>\n",
       "    <tr>\n",
       "      <th>2</th>\n",
       "      <td>1977-03-15</td>\n",
       "      <td>90.153954</td>\n",
       "    </tr>\n",
       "    <tr>\n",
       "      <th>3</th>\n",
       "      <td>1977-03-16</td>\n",
       "      <td>109.769287</td>\n",
       "    </tr>\n",
       "    <tr>\n",
       "      <th>4</th>\n",
       "      <td>1977-03-17</td>\n",
       "      <td>123.961334</td>\n",
       "    </tr>\n",
       "  </tbody>\n",
       "</table>\n",
       "</div>"
      ],
      "text/plain": [
       "     datetime     storage\n",
       "0  1977-03-13   38.000000\n",
       "1  1977-03-14   72.846298\n",
       "2  1977-03-15   90.153954\n",
       "3  1977-03-16  109.769287\n",
       "4  1977-03-17  123.961334"
      ]
     },
     "execution_count": 15,
     "metadata": {},
     "output_type": "execute_result"
    }
   ],
   "source": [
    "Crystal_Reservoir.head()"
   ]
  },
  {
   "cell_type": "code",
   "execution_count": 16,
   "id": "9c06a293",
   "metadata": {},
   "outputs": [],
   "source": [
    "url8 = 'https://www.usbr.gov/uc/water/hydrodata/reservoir_data/2686/csv/17.csv'\n",
    "r8 = requests.get(url8)\n",
    "open('Heron_Reservoir.csv', \"wb\").write(r8.content)\n",
    "Heron_Reservoir = pd.read_csv('Heron_Reservoir.csv')"
   ]
  },
  {
   "cell_type": "code",
   "execution_count": 17,
   "id": "4676d47d",
   "metadata": {},
   "outputs": [
    {
     "data": {
      "text/html": [
       "<div>\n",
       "<style scoped>\n",
       "    .dataframe tbody tr th:only-of-type {\n",
       "        vertical-align: middle;\n",
       "    }\n",
       "\n",
       "    .dataframe tbody tr th {\n",
       "        vertical-align: top;\n",
       "    }\n",
       "\n",
       "    .dataframe thead th {\n",
       "        text-align: right;\n",
       "    }\n",
       "</style>\n",
       "<table border=\"1\" class=\"dataframe\">\n",
       "  <thead>\n",
       "    <tr style=\"text-align: right;\">\n",
       "      <th></th>\n",
       "      <th>datetime</th>\n",
       "      <th>storage</th>\n",
       "    </tr>\n",
       "  </thead>\n",
       "  <tbody>\n",
       "    <tr>\n",
       "      <th>0</th>\n",
       "      <td>1974-12-31</td>\n",
       "      <td>149900.0</td>\n",
       "    </tr>\n",
       "    <tr>\n",
       "      <th>1</th>\n",
       "      <td>1975-01-01</td>\n",
       "      <td>149900.0</td>\n",
       "    </tr>\n",
       "    <tr>\n",
       "      <th>2</th>\n",
       "      <td>1975-01-02</td>\n",
       "      <td>149900.0</td>\n",
       "    </tr>\n",
       "    <tr>\n",
       "      <th>3</th>\n",
       "      <td>1975-01-03</td>\n",
       "      <td>149900.0</td>\n",
       "    </tr>\n",
       "    <tr>\n",
       "      <th>4</th>\n",
       "      <td>1975-01-04</td>\n",
       "      <td>149900.0</td>\n",
       "    </tr>\n",
       "  </tbody>\n",
       "</table>\n",
       "</div>"
      ],
      "text/plain": [
       "     datetime   storage\n",
       "0  1974-12-31  149900.0\n",
       "1  1975-01-01  149900.0\n",
       "2  1975-01-02  149900.0\n",
       "3  1975-01-03  149900.0\n",
       "4  1975-01-04  149900.0"
      ]
     },
     "execution_count": 17,
     "metadata": {},
     "output_type": "execute_result"
    }
   ],
   "source": [
    "Heron_Reservoir.head()"
   ]
  },
  {
   "cell_type": "code",
   "execution_count": 18,
   "id": "388403ea",
   "metadata": {},
   "outputs": [],
   "source": [
    "url9 = 'https://www.usbr.gov/uc/water/hydrodata/reservoir_data/948/csv/17.csv'\n",
    "r9 = requests.get(url9)\n",
    "open('Ridgway_Reservoir.csv', \"wb\").write(r9.content)\n",
    "Ridgway_Reservoir = pd.read_csv('Ridgway_Reservoir.csv')"
   ]
  },
  {
   "cell_type": "code",
   "execution_count": 19,
   "id": "91ffad6d",
   "metadata": {},
   "outputs": [
    {
     "data": {
      "text/html": [
       "<div>\n",
       "<style scoped>\n",
       "    .dataframe tbody tr th:only-of-type {\n",
       "        vertical-align: middle;\n",
       "    }\n",
       "\n",
       "    .dataframe tbody tr th {\n",
       "        vertical-align: top;\n",
       "    }\n",
       "\n",
       "    .dataframe thead th {\n",
       "        text-align: right;\n",
       "    }\n",
       "</style>\n",
       "<table border=\"1\" class=\"dataframe\">\n",
       "  <thead>\n",
       "    <tr style=\"text-align: right;\">\n",
       "      <th></th>\n",
       "      <th>datetime</th>\n",
       "      <th>storage</th>\n",
       "    </tr>\n",
       "  </thead>\n",
       "  <tbody>\n",
       "    <tr>\n",
       "      <th>0</th>\n",
       "      <td>1986-10-20</td>\n",
       "      <td>0.0</td>\n",
       "    </tr>\n",
       "    <tr>\n",
       "      <th>1</th>\n",
       "      <td>1986-10-21</td>\n",
       "      <td>0.0</td>\n",
       "    </tr>\n",
       "    <tr>\n",
       "      <th>2</th>\n",
       "      <td>1986-10-22</td>\n",
       "      <td>0.0</td>\n",
       "    </tr>\n",
       "    <tr>\n",
       "      <th>3</th>\n",
       "      <td>1986-10-23</td>\n",
       "      <td>0.0</td>\n",
       "    </tr>\n",
       "    <tr>\n",
       "      <th>4</th>\n",
       "      <td>1986-10-24</td>\n",
       "      <td>0.0</td>\n",
       "    </tr>\n",
       "  </tbody>\n",
       "</table>\n",
       "</div>"
      ],
      "text/plain": [
       "     datetime  storage\n",
       "0  1986-10-20      0.0\n",
       "1  1986-10-21      0.0\n",
       "2  1986-10-22      0.0\n",
       "3  1986-10-23      0.0\n",
       "4  1986-10-24      0.0"
      ]
     },
     "execution_count": 19,
     "metadata": {},
     "output_type": "execute_result"
    }
   ],
   "source": [
    "Ridgway_Reservoir.head()"
   ]
  },
  {
   "cell_type": "code",
   "execution_count": 20,
   "id": "e2eef13f",
   "metadata": {},
   "outputs": [],
   "source": [
    "url10 = 'https://www.usbr.gov/uc/water/hydrodata/reservoir_data/920/csv/17.csv'\n",
    "r10 = requests.get(url10)\n",
    "open('Navajo_Reservoir.csv', \"wb\").write(r10.content)\n",
    "Navajo_Reservoir = pd.read_csv('Navajo_Reservoir.csv')"
   ]
  },
  {
   "cell_type": "code",
   "execution_count": 21,
   "id": "6cb77d9a",
   "metadata": {},
   "outputs": [
    {
     "data": {
      "text/html": [
       "<div>\n",
       "<style scoped>\n",
       "    .dataframe tbody tr th:only-of-type {\n",
       "        vertical-align: middle;\n",
       "    }\n",
       "\n",
       "    .dataframe tbody tr th {\n",
       "        vertical-align: top;\n",
       "    }\n",
       "\n",
       "    .dataframe thead th {\n",
       "        text-align: right;\n",
       "    }\n",
       "</style>\n",
       "<table border=\"1\" class=\"dataframe\">\n",
       "  <thead>\n",
       "    <tr style=\"text-align: right;\">\n",
       "      <th></th>\n",
       "      <th>datetime</th>\n",
       "      <th>storage</th>\n",
       "    </tr>\n",
       "  </thead>\n",
       "  <tbody>\n",
       "    <tr>\n",
       "      <th>0</th>\n",
       "      <td>1962-07-01</td>\n",
       "      <td>4200.00000</td>\n",
       "    </tr>\n",
       "    <tr>\n",
       "      <th>1</th>\n",
       "      <td>1962-07-02</td>\n",
       "      <td>7000.00000</td>\n",
       "    </tr>\n",
       "    <tr>\n",
       "      <th>2</th>\n",
       "      <td>1962-07-03</td>\n",
       "      <td>9590.13672</td>\n",
       "    </tr>\n",
       "    <tr>\n",
       "      <th>3</th>\n",
       "      <td>1962-07-04</td>\n",
       "      <td>12064.17970</td>\n",
       "    </tr>\n",
       "    <tr>\n",
       "      <th>4</th>\n",
       "      <td>1962-07-05</td>\n",
       "      <td>14640.00000</td>\n",
       "    </tr>\n",
       "  </tbody>\n",
       "</table>\n",
       "</div>"
      ],
      "text/plain": [
       "     datetime      storage\n",
       "0  1962-07-01   4200.00000\n",
       "1  1962-07-02   7000.00000\n",
       "2  1962-07-03   9590.13672\n",
       "3  1962-07-04  12064.17970\n",
       "4  1962-07-05  14640.00000"
      ]
     },
     "execution_count": 21,
     "metadata": {},
     "output_type": "execute_result"
    }
   ],
   "source": [
    "Navajo_Reservoir.head()"
   ]
  },
  {
   "cell_type": "code",
   "execution_count": 22,
   "id": "69fc9070",
   "metadata": {},
   "outputs": [],
   "source": [
    "url11 = 'https://www.usbr.gov/uc/water/hydrodata/reservoir_data/958/csv/17.csv'\n",
    "r11 = requests.get(url11)\n",
    "open('McPhee_Reservoir.csv', \"wb\").write(r11.content)\n",
    "McPhee_Reservoir = pd.read_csv('McPhee_Reservoir.csv')"
   ]
  },
  {
   "cell_type": "code",
   "execution_count": 23,
   "id": "0e8a9d66",
   "metadata": {},
   "outputs": [
    {
     "data": {
      "text/html": [
       "<div>\n",
       "<style scoped>\n",
       "    .dataframe tbody tr th:only-of-type {\n",
       "        vertical-align: middle;\n",
       "    }\n",
       "\n",
       "    .dataframe tbody tr th {\n",
       "        vertical-align: top;\n",
       "    }\n",
       "\n",
       "    .dataframe thead th {\n",
       "        text-align: right;\n",
       "    }\n",
       "</style>\n",
       "<table border=\"1\" class=\"dataframe\">\n",
       "  <thead>\n",
       "    <tr style=\"text-align: right;\">\n",
       "      <th></th>\n",
       "      <th>datetime</th>\n",
       "      <th>storage</th>\n",
       "    </tr>\n",
       "  </thead>\n",
       "  <tbody>\n",
       "    <tr>\n",
       "      <th>0</th>\n",
       "      <td>1984-03-20</td>\n",
       "      <td>1455.0</td>\n",
       "    </tr>\n",
       "    <tr>\n",
       "      <th>1</th>\n",
       "      <td>1984-03-21</td>\n",
       "      <td>2572.0</td>\n",
       "    </tr>\n",
       "    <tr>\n",
       "      <th>2</th>\n",
       "      <td>1984-03-22</td>\n",
       "      <td>5182.0</td>\n",
       "    </tr>\n",
       "    <tr>\n",
       "      <th>3</th>\n",
       "      <td>1984-03-23</td>\n",
       "      <td>6828.0</td>\n",
       "    </tr>\n",
       "    <tr>\n",
       "      <th>4</th>\n",
       "      <td>1984-03-24</td>\n",
       "      <td>8361.0</td>\n",
       "    </tr>\n",
       "  </tbody>\n",
       "</table>\n",
       "</div>"
      ],
      "text/plain": [
       "     datetime  storage\n",
       "0  1984-03-20   1455.0\n",
       "1  1984-03-21   2572.0\n",
       "2  1984-03-22   5182.0\n",
       "3  1984-03-23   6828.0\n",
       "4  1984-03-24   8361.0"
      ]
     },
     "execution_count": 23,
     "metadata": {},
     "output_type": "execute_result"
    }
   ],
   "source": [
    "McPhee_Reservoir.head()"
   ]
  },
  {
   "cell_type": "code",
   "execution_count": 24,
   "id": "08e7da2f",
   "metadata": {},
   "outputs": [],
   "source": [
    "url12 = 'https://www.usbr.gov/uc/water/hydrodata/reservoir_data/946/csv/17.csv'\n",
    "r12 = requests.get(url12)\n",
    "open('Pineview_Reservoir.csv', \"wb\").write(r12.content)\n",
    "Pineview_Reservoir = pd.read_csv('Pineview_Reservoir.csv')"
   ]
  },
  {
   "cell_type": "code",
   "execution_count": 25,
   "id": "a77825c8",
   "metadata": {},
   "outputs": [
    {
     "data": {
      "text/html": [
       "<div>\n",
       "<style scoped>\n",
       "    .dataframe tbody tr th:only-of-type {\n",
       "        vertical-align: middle;\n",
       "    }\n",
       "\n",
       "    .dataframe tbody tr th {\n",
       "        vertical-align: top;\n",
       "    }\n",
       "\n",
       "    .dataframe thead th {\n",
       "        text-align: right;\n",
       "    }\n",
       "</style>\n",
       "<table border=\"1\" class=\"dataframe\">\n",
       "  <thead>\n",
       "    <tr style=\"text-align: right;\">\n",
       "      <th></th>\n",
       "      <th>datetime</th>\n",
       "      <th>storage</th>\n",
       "    </tr>\n",
       "  </thead>\n",
       "  <tbody>\n",
       "    <tr>\n",
       "      <th>0</th>\n",
       "      <td>1977-12-01</td>\n",
       "      <td>34299.0</td>\n",
       "    </tr>\n",
       "    <tr>\n",
       "      <th>1</th>\n",
       "      <td>1977-12-02</td>\n",
       "      <td>34299.0</td>\n",
       "    </tr>\n",
       "    <tr>\n",
       "      <th>2</th>\n",
       "      <td>1977-12-03</td>\n",
       "      <td>34299.0</td>\n",
       "    </tr>\n",
       "    <tr>\n",
       "      <th>3</th>\n",
       "      <td>1977-12-04</td>\n",
       "      <td>34456.0</td>\n",
       "    </tr>\n",
       "    <tr>\n",
       "      <th>4</th>\n",
       "      <td>1977-12-05</td>\n",
       "      <td>34456.0</td>\n",
       "    </tr>\n",
       "  </tbody>\n",
       "</table>\n",
       "</div>"
      ],
      "text/plain": [
       "     datetime  storage\n",
       "0  1977-12-01  34299.0\n",
       "1  1977-12-02  34299.0\n",
       "2  1977-12-03  34299.0\n",
       "3  1977-12-04  34456.0\n",
       "4  1977-12-05  34456.0"
      ]
     },
     "execution_count": 25,
     "metadata": {},
     "output_type": "execute_result"
    }
   ],
   "source": [
    "Pineview_Reservoir.head()"
   ]
  },
  {
   "cell_type": "code",
   "execution_count": 26,
   "id": "f21e3d22",
   "metadata": {},
   "outputs": [],
   "source": [
    "url13 = 'https://www.usbr.gov/uc/water/hydrodata/reservoir_data/931/csv/17.csv'\n",
    "r13 = requests.get(url13)\n",
    "open('Scofield_Reservoir.csv', \"wb\").write(r13.content)\n",
    "Scofield_Reservoir = pd.read_csv('Scofield_Reservoir.csv')"
   ]
  },
  {
   "cell_type": "code",
   "execution_count": 27,
   "id": "4f133f71",
   "metadata": {},
   "outputs": [
    {
     "data": {
      "text/html": [
       "<div>\n",
       "<style scoped>\n",
       "    .dataframe tbody tr th:only-of-type {\n",
       "        vertical-align: middle;\n",
       "    }\n",
       "\n",
       "    .dataframe tbody tr th {\n",
       "        vertical-align: top;\n",
       "    }\n",
       "\n",
       "    .dataframe thead th {\n",
       "        text-align: right;\n",
       "    }\n",
       "</style>\n",
       "<table border=\"1\" class=\"dataframe\">\n",
       "  <thead>\n",
       "    <tr style=\"text-align: right;\">\n",
       "      <th></th>\n",
       "      <th>datetime</th>\n",
       "      <th>storage</th>\n",
       "    </tr>\n",
       "  </thead>\n",
       "  <tbody>\n",
       "    <tr>\n",
       "      <th>0</th>\n",
       "      <td>1974-10-31</td>\n",
       "      <td>31784.24</td>\n",
       "    </tr>\n",
       "    <tr>\n",
       "      <th>1</th>\n",
       "      <td>1974-11-01</td>\n",
       "      <td>NaN</td>\n",
       "    </tr>\n",
       "    <tr>\n",
       "      <th>2</th>\n",
       "      <td>1974-11-02</td>\n",
       "      <td>NaN</td>\n",
       "    </tr>\n",
       "    <tr>\n",
       "      <th>3</th>\n",
       "      <td>1974-11-03</td>\n",
       "      <td>NaN</td>\n",
       "    </tr>\n",
       "    <tr>\n",
       "      <th>4</th>\n",
       "      <td>1974-11-04</td>\n",
       "      <td>NaN</td>\n",
       "    </tr>\n",
       "  </tbody>\n",
       "</table>\n",
       "</div>"
      ],
      "text/plain": [
       "     datetime   storage\n",
       "0  1974-10-31  31784.24\n",
       "1  1974-11-01       NaN\n",
       "2  1974-11-02       NaN\n",
       "3  1974-11-03       NaN\n",
       "4  1974-11-04       NaN"
      ]
     },
     "execution_count": 27,
     "metadata": {},
     "output_type": "execute_result"
    }
   ],
   "source": [
    "Scofield_Reservoir.head()"
   ]
  },
  {
   "cell_type": "code",
   "execution_count": 28,
   "id": "1b5d67a5",
   "metadata": {},
   "outputs": [],
   "source": [
    "url14 = 'https://www.usbr.gov/uc/water/hydrodata/reservoir_data/933/csv/17.csv'\n",
    "r14 = requests.get(url14)\n",
    "open('Vallecito_Reservoir.csv', \"wb\").write(r14.content)\n",
    "Vallecito_Reservoir = pd.read_csv('Vallecito_Reservoir.csv')"
   ]
  },
  {
   "cell_type": "code",
   "execution_count": 29,
   "id": "21a3cb23",
   "metadata": {},
   "outputs": [
    {
     "data": {
      "text/html": [
       "<div>\n",
       "<style scoped>\n",
       "    .dataframe tbody tr th:only-of-type {\n",
       "        vertical-align: middle;\n",
       "    }\n",
       "\n",
       "    .dataframe tbody tr th {\n",
       "        vertical-align: top;\n",
       "    }\n",
       "\n",
       "    .dataframe thead th {\n",
       "        text-align: right;\n",
       "    }\n",
       "</style>\n",
       "<table border=\"1\" class=\"dataframe\">\n",
       "  <thead>\n",
       "    <tr style=\"text-align: right;\">\n",
       "      <th></th>\n",
       "      <th>datetime</th>\n",
       "      <th>storage</th>\n",
       "    </tr>\n",
       "  </thead>\n",
       "  <tbody>\n",
       "    <tr>\n",
       "      <th>0</th>\n",
       "      <td>1941-05-03</td>\n",
       "      <td>1776.14</td>\n",
       "    </tr>\n",
       "    <tr>\n",
       "      <th>1</th>\n",
       "      <td>1941-05-04</td>\n",
       "      <td>2138.14</td>\n",
       "    </tr>\n",
       "    <tr>\n",
       "      <th>2</th>\n",
       "      <td>1941-05-05</td>\n",
       "      <td>2419.46</td>\n",
       "    </tr>\n",
       "    <tr>\n",
       "      <th>3</th>\n",
       "      <td>1941-05-06</td>\n",
       "      <td>2753.01</td>\n",
       "    </tr>\n",
       "    <tr>\n",
       "      <th>4</th>\n",
       "      <td>1941-05-07</td>\n",
       "      <td>3385.58</td>\n",
       "    </tr>\n",
       "  </tbody>\n",
       "</table>\n",
       "</div>"
      ],
      "text/plain": [
       "     datetime  storage\n",
       "0  1941-05-03  1776.14\n",
       "1  1941-05-04  2138.14\n",
       "2  1941-05-05  2419.46\n",
       "3  1941-05-06  2753.01\n",
       "4  1941-05-07  3385.58"
      ]
     },
     "execution_count": 29,
     "metadata": {},
     "output_type": "execute_result"
    }
   ],
   "source": [
    "Vallecito_Reservoir.head()"
   ]
  },
  {
   "cell_type": "code",
   "execution_count": 30,
   "id": "a90a9a7f",
   "metadata": {},
   "outputs": [],
   "source": [
    "url15 = 'https://www.usbr.gov/uc/water/hydrodata/reservoir_data/913/csv/17.csv'\n",
    "r15 = requests.get(url15)\n",
    "open('Blue_Mesa_Reservoir.csv', \"wb\").write(r15.content)\n",
    "Blue_Mesa_Reservoir = pd.read_csv('Blue_Mesa_Reservoir.csv')"
   ]
  },
  {
   "cell_type": "code",
   "execution_count": 31,
   "id": "9543ab57",
   "metadata": {},
   "outputs": [
    {
     "data": {
      "text/html": [
       "<div>\n",
       "<style scoped>\n",
       "    .dataframe tbody tr th:only-of-type {\n",
       "        vertical-align: middle;\n",
       "    }\n",
       "\n",
       "    .dataframe tbody tr th {\n",
       "        vertical-align: top;\n",
       "    }\n",
       "\n",
       "    .dataframe thead th {\n",
       "        text-align: right;\n",
       "    }\n",
       "</style>\n",
       "<table border=\"1\" class=\"dataframe\">\n",
       "  <thead>\n",
       "    <tr style=\"text-align: right;\">\n",
       "      <th></th>\n",
       "      <th>datetime</th>\n",
       "      <th>storage</th>\n",
       "    </tr>\n",
       "  </thead>\n",
       "  <tbody>\n",
       "    <tr>\n",
       "      <th>0</th>\n",
       "      <td>1966-01-31</td>\n",
       "      <td>6502.0</td>\n",
       "    </tr>\n",
       "    <tr>\n",
       "      <th>1</th>\n",
       "      <td>1966-02-01</td>\n",
       "      <td>NaN</td>\n",
       "    </tr>\n",
       "    <tr>\n",
       "      <th>2</th>\n",
       "      <td>1966-02-02</td>\n",
       "      <td>NaN</td>\n",
       "    </tr>\n",
       "    <tr>\n",
       "      <th>3</th>\n",
       "      <td>1966-02-03</td>\n",
       "      <td>NaN</td>\n",
       "    </tr>\n",
       "    <tr>\n",
       "      <th>4</th>\n",
       "      <td>1966-02-04</td>\n",
       "      <td>NaN</td>\n",
       "    </tr>\n",
       "  </tbody>\n",
       "</table>\n",
       "</div>"
      ],
      "text/plain": [
       "     datetime  storage\n",
       "0  1966-01-31   6502.0\n",
       "1  1966-02-01      NaN\n",
       "2  1966-02-02      NaN\n",
       "3  1966-02-03      NaN\n",
       "4  1966-02-04      NaN"
      ]
     },
     "execution_count": 31,
     "metadata": {},
     "output_type": "execute_result"
    }
   ],
   "source": [
    "Blue_Mesa_Reservoir.head()"
   ]
  },
  {
   "cell_type": "code",
   "execution_count": 32,
   "id": "cc688033",
   "metadata": {},
   "outputs": [],
   "source": [
    "url16 = 'https://www.usbr.gov/uc/water/hydrodata/reservoir_data/925/csv/17.csv'\n",
    "r16 = requests.get(url16)\n",
    "open('Wilard_Bay_Reservoir.csv', \"wb\").write(r16.content)\n",
    "Wilard_Bay_Reservoir = pd.read_csv('Wilard_Bay_Reservoir.csv')"
   ]
  },
  {
   "cell_type": "code",
   "execution_count": 33,
   "id": "8dea6603",
   "metadata": {},
   "outputs": [
    {
     "data": {
      "text/html": [
       "<div>\n",
       "<style scoped>\n",
       "    .dataframe tbody tr th:only-of-type {\n",
       "        vertical-align: middle;\n",
       "    }\n",
       "\n",
       "    .dataframe tbody tr th {\n",
       "        vertical-align: top;\n",
       "    }\n",
       "\n",
       "    .dataframe thead th {\n",
       "        text-align: right;\n",
       "    }\n",
       "</style>\n",
       "<table border=\"1\" class=\"dataframe\">\n",
       "  <thead>\n",
       "    <tr style=\"text-align: right;\">\n",
       "      <th></th>\n",
       "      <th>datetime</th>\n",
       "      <th>storage</th>\n",
       "    </tr>\n",
       "  </thead>\n",
       "  <tbody>\n",
       "    <tr>\n",
       "      <th>0</th>\n",
       "      <td>1985-12-22</td>\n",
       "      <td>158032.172</td>\n",
       "    </tr>\n",
       "    <tr>\n",
       "      <th>1</th>\n",
       "      <td>1985-12-23</td>\n",
       "      <td>NaN</td>\n",
       "    </tr>\n",
       "    <tr>\n",
       "      <th>2</th>\n",
       "      <td>1985-12-24</td>\n",
       "      <td>NaN</td>\n",
       "    </tr>\n",
       "    <tr>\n",
       "      <th>3</th>\n",
       "      <td>1985-12-25</td>\n",
       "      <td>NaN</td>\n",
       "    </tr>\n",
       "    <tr>\n",
       "      <th>4</th>\n",
       "      <td>1985-12-26</td>\n",
       "      <td>NaN</td>\n",
       "    </tr>\n",
       "  </tbody>\n",
       "</table>\n",
       "</div>"
      ],
      "text/plain": [
       "     datetime     storage\n",
       "0  1985-12-22  158032.172\n",
       "1  1985-12-23         NaN\n",
       "2  1985-12-24         NaN\n",
       "3  1985-12-25         NaN\n",
       "4  1985-12-26         NaN"
      ]
     },
     "execution_count": 33,
     "metadata": {},
     "output_type": "execute_result"
    }
   ],
   "source": [
    "Wilard_Bay_Reservoir.head()"
   ]
  },
  {
   "cell_type": "code",
   "execution_count": 34,
   "id": "d0b0d67b",
   "metadata": {},
   "outputs": [],
   "source": [
    "url17 = 'https://www.usbr.gov/uc/water/hydrodata/reservoir_data/962/csv/17.csv'\n",
    "r17 = requests.get(url17)\n",
    "open('Strawberry_Reservoir.csv', \"wb\").write(r17.content)\n",
    "Strawberry_Reservoir = pd.read_csv('Strawberry_Reservoir.csv')"
   ]
  },
  {
   "cell_type": "code",
   "execution_count": 35,
   "id": "540bb2b2",
   "metadata": {},
   "outputs": [
    {
     "data": {
      "text/html": [
       "<div>\n",
       "<style scoped>\n",
       "    .dataframe tbody tr th:only-of-type {\n",
       "        vertical-align: middle;\n",
       "    }\n",
       "\n",
       "    .dataframe tbody tr th {\n",
       "        vertical-align: top;\n",
       "    }\n",
       "\n",
       "    .dataframe thead th {\n",
       "        text-align: right;\n",
       "    }\n",
       "</style>\n",
       "<table border=\"1\" class=\"dataframe\">\n",
       "  <thead>\n",
       "    <tr style=\"text-align: right;\">\n",
       "      <th></th>\n",
       "      <th>datetime</th>\n",
       "      <th>storage</th>\n",
       "    </tr>\n",
       "  </thead>\n",
       "  <tbody>\n",
       "    <tr>\n",
       "      <th>0</th>\n",
       "      <td>1975-04-30</td>\n",
       "      <td>11422.0</td>\n",
       "    </tr>\n",
       "    <tr>\n",
       "      <th>1</th>\n",
       "      <td>1975-05-01</td>\n",
       "      <td>11434.0</td>\n",
       "    </tr>\n",
       "    <tr>\n",
       "      <th>2</th>\n",
       "      <td>1975-05-02</td>\n",
       "      <td>NaN</td>\n",
       "    </tr>\n",
       "    <tr>\n",
       "      <th>3</th>\n",
       "      <td>1975-05-03</td>\n",
       "      <td>NaN</td>\n",
       "    </tr>\n",
       "    <tr>\n",
       "      <th>4</th>\n",
       "      <td>1975-05-04</td>\n",
       "      <td>NaN</td>\n",
       "    </tr>\n",
       "  </tbody>\n",
       "</table>\n",
       "</div>"
      ],
      "text/plain": [
       "     datetime  storage\n",
       "0  1975-04-30  11422.0\n",
       "1  1975-05-01  11434.0\n",
       "2  1975-05-02      NaN\n",
       "3  1975-05-03      NaN\n",
       "4  1975-05-04      NaN"
      ]
     },
     "execution_count": 35,
     "metadata": {},
     "output_type": "execute_result"
    }
   ],
   "source": [
    "Strawberry_Reservoir.head()"
   ]
  },
  {
   "cell_type": "code",
   "execution_count": 36,
   "id": "bdaa4900",
   "metadata": {},
   "outputs": [],
   "source": [
    "url18 = 'https://www.usbr.gov/uc/water/hydrodata/reservoir_data/964/csv/17.csv'\n",
    "r18 = requests.get(url18)\n",
    "open('Jordanelle_Reservoir.csv', \"wb\").write(r18.content)\n",
    "Jordanelle_Reservoir = pd.read_csv('Jordanelle_Reservoir.csv')"
   ]
  },
  {
   "cell_type": "code",
   "execution_count": 37,
   "id": "bbb03aee",
   "metadata": {},
   "outputs": [
    {
     "data": {
      "text/html": [
       "<div>\n",
       "<style scoped>\n",
       "    .dataframe tbody tr th:only-of-type {\n",
       "        vertical-align: middle;\n",
       "    }\n",
       "\n",
       "    .dataframe tbody tr th {\n",
       "        vertical-align: top;\n",
       "    }\n",
       "\n",
       "    .dataframe thead th {\n",
       "        text-align: right;\n",
       "    }\n",
       "</style>\n",
       "<table border=\"1\" class=\"dataframe\">\n",
       "  <thead>\n",
       "    <tr style=\"text-align: right;\">\n",
       "      <th></th>\n",
       "      <th>datetime</th>\n",
       "      <th>storage</th>\n",
       "    </tr>\n",
       "  </thead>\n",
       "  <tbody>\n",
       "    <tr>\n",
       "      <th>0</th>\n",
       "      <td>1993-02-05</td>\n",
       "      <td>1119.99</td>\n",
       "    </tr>\n",
       "    <tr>\n",
       "      <th>1</th>\n",
       "      <td>1993-02-06</td>\n",
       "      <td>1177.69</td>\n",
       "    </tr>\n",
       "    <tr>\n",
       "      <th>2</th>\n",
       "      <td>1993-02-07</td>\n",
       "      <td>1237.00</td>\n",
       "    </tr>\n",
       "    <tr>\n",
       "      <th>3</th>\n",
       "      <td>1993-02-08</td>\n",
       "      <td>1299.81</td>\n",
       "    </tr>\n",
       "    <tr>\n",
       "      <th>4</th>\n",
       "      <td>1993-02-09</td>\n",
       "      <td>1382.50</td>\n",
       "    </tr>\n",
       "  </tbody>\n",
       "</table>\n",
       "</div>"
      ],
      "text/plain": [
       "     datetime  storage\n",
       "0  1993-02-05  1119.99\n",
       "1  1993-02-06  1177.69\n",
       "2  1993-02-07  1237.00\n",
       "3  1993-02-08  1299.81\n",
       "4  1993-02-09  1382.50"
      ]
     },
     "execution_count": 37,
     "metadata": {},
     "output_type": "execute_result"
    }
   ],
   "source": [
    "Jordanelle_Reservoir.head()"
   ]
  },
  {
   "cell_type": "code",
   "execution_count": 38,
   "id": "dcb315b9",
   "metadata": {},
   "outputs": [],
   "source": [
    "url19 = 'https://www.usbr.gov/uc/water/hydrodata/reservoir_data/912/csv/17.csv'\n",
    "r19 = requests.get(url19)\n",
    "open('Taylor_Park_Reservoir.csv', \"wb\").write(r19.content)\n",
    "Taylor_Park_Reservoir = pd.read_csv('Taylor_Park_Reservoir.csv')"
   ]
  },
  {
   "cell_type": "code",
   "execution_count": 39,
   "id": "1f1782fb",
   "metadata": {},
   "outputs": [
    {
     "data": {
      "text/html": [
       "<div>\n",
       "<style scoped>\n",
       "    .dataframe tbody tr th:only-of-type {\n",
       "        vertical-align: middle;\n",
       "    }\n",
       "\n",
       "    .dataframe tbody tr th {\n",
       "        vertical-align: top;\n",
       "    }\n",
       "\n",
       "    .dataframe thead th {\n",
       "        text-align: right;\n",
       "    }\n",
       "</style>\n",
       "<table border=\"1\" class=\"dataframe\">\n",
       "  <thead>\n",
       "    <tr style=\"text-align: right;\">\n",
       "      <th></th>\n",
       "      <th>datetime</th>\n",
       "      <th>storage</th>\n",
       "    </tr>\n",
       "  </thead>\n",
       "  <tbody>\n",
       "    <tr>\n",
       "      <th>0</th>\n",
       "      <td>1958-10-01</td>\n",
       "      <td>51571.852</td>\n",
       "    </tr>\n",
       "    <tr>\n",
       "      <th>1</th>\n",
       "      <td>1958-10-02</td>\n",
       "      <td>51507.250</td>\n",
       "    </tr>\n",
       "    <tr>\n",
       "      <th>2</th>\n",
       "      <td>1958-10-03</td>\n",
       "      <td>51571.852</td>\n",
       "    </tr>\n",
       "    <tr>\n",
       "      <th>3</th>\n",
       "      <td>1958-10-04</td>\n",
       "      <td>51571.852</td>\n",
       "    </tr>\n",
       "    <tr>\n",
       "      <th>4</th>\n",
       "      <td>1958-10-05</td>\n",
       "      <td>51571.852</td>\n",
       "    </tr>\n",
       "  </tbody>\n",
       "</table>\n",
       "</div>"
      ],
      "text/plain": [
       "     datetime    storage\n",
       "0  1958-10-01  51571.852\n",
       "1  1958-10-02  51507.250\n",
       "2  1958-10-03  51571.852\n",
       "3  1958-10-04  51571.852\n",
       "4  1958-10-05  51571.852"
      ]
     },
     "execution_count": 39,
     "metadata": {},
     "output_type": "execute_result"
    }
   ],
   "source": [
    "Taylor_Park_Reservoir.head()"
   ]
  },
  {
   "cell_type": "code",
   "execution_count": 40,
   "id": "571c7326",
   "metadata": {},
   "outputs": [],
   "source": [
    "url20 = 'https://www.usbr.gov/uc/water/hydrodata/reservoir_data/928/csv/17.csv'\n",
    "r20 = requests.get(url20)\n",
    "open('Starvation_Reservoir.csv', \"wb\").write(r20.content)\n",
    "Starvation_Reservoir = pd.read_csv('Starvation_Reservoir.csv')"
   ]
  },
  {
   "cell_type": "code",
   "execution_count": 41,
   "id": "3e6078e5",
   "metadata": {},
   "outputs": [
    {
     "data": {
      "text/html": [
       "<div>\n",
       "<style scoped>\n",
       "    .dataframe tbody tr th:only-of-type {\n",
       "        vertical-align: middle;\n",
       "    }\n",
       "\n",
       "    .dataframe tbody tr th {\n",
       "        vertical-align: top;\n",
       "    }\n",
       "\n",
       "    .dataframe thead th {\n",
       "        text-align: right;\n",
       "    }\n",
       "</style>\n",
       "<table border=\"1\" class=\"dataframe\">\n",
       "  <thead>\n",
       "    <tr style=\"text-align: right;\">\n",
       "      <th></th>\n",
       "      <th>datetime</th>\n",
       "      <th>storage</th>\n",
       "    </tr>\n",
       "  </thead>\n",
       "  <tbody>\n",
       "    <tr>\n",
       "      <th>0</th>\n",
       "      <td>1969-12-01</td>\n",
       "      <td>3792.0</td>\n",
       "    </tr>\n",
       "    <tr>\n",
       "      <th>1</th>\n",
       "      <td>1969-12-02</td>\n",
       "      <td>3792.0</td>\n",
       "    </tr>\n",
       "    <tr>\n",
       "      <th>2</th>\n",
       "      <td>1969-12-03</td>\n",
       "      <td>3672.0</td>\n",
       "    </tr>\n",
       "    <tr>\n",
       "      <th>3</th>\n",
       "      <td>1969-12-04</td>\n",
       "      <td>NaN</td>\n",
       "    </tr>\n",
       "    <tr>\n",
       "      <th>4</th>\n",
       "      <td>1969-12-05</td>\n",
       "      <td>3832.0</td>\n",
       "    </tr>\n",
       "  </tbody>\n",
       "</table>\n",
       "</div>"
      ],
      "text/plain": [
       "     datetime  storage\n",
       "0  1969-12-01   3792.0\n",
       "1  1969-12-02   3792.0\n",
       "2  1969-12-03   3672.0\n",
       "3  1969-12-04      NaN\n",
       "4  1969-12-05   3832.0"
      ]
     },
     "execution_count": 41,
     "metadata": {},
     "output_type": "execute_result"
    }
   ],
   "source": [
    "Starvation_Reservoir.head()"
   ]
  },
  {
   "cell_type": "code",
   "execution_count": 42,
   "id": "cff63cf6",
   "metadata": {},
   "outputs": [],
   "source": [
    "url21 = 'https://www.usbr.gov/uc/water/hydrodata/reservoir_data/914/csv/17.csv'\n",
    "r21 = requests.get(url21)\n",
    "open('Morrow_Point_Reservoir.csv', \"wb\").write(r21.content)\n",
    "Morrow_Point_Reservoir = pd.read_csv('Morrow_Point_Reservoir.csv')"
   ]
  },
  {
   "cell_type": "code",
   "execution_count": 43,
   "id": "44d1ad1e",
   "metadata": {},
   "outputs": [
    {
     "data": {
      "text/html": [
       "<div>\n",
       "<style scoped>\n",
       "    .dataframe tbody tr th:only-of-type {\n",
       "        vertical-align: middle;\n",
       "    }\n",
       "\n",
       "    .dataframe tbody tr th {\n",
       "        vertical-align: top;\n",
       "    }\n",
       "\n",
       "    .dataframe thead th {\n",
       "        text-align: right;\n",
       "    }\n",
       "</style>\n",
       "<table border=\"1\" class=\"dataframe\">\n",
       "  <thead>\n",
       "    <tr style=\"text-align: right;\">\n",
       "      <th></th>\n",
       "      <th>datetime</th>\n",
       "      <th>storage</th>\n",
       "    </tr>\n",
       "  </thead>\n",
       "  <tbody>\n",
       "    <tr>\n",
       "      <th>0</th>\n",
       "      <td>1970-12-01</td>\n",
       "      <td>114655.859</td>\n",
       "    </tr>\n",
       "    <tr>\n",
       "      <th>1</th>\n",
       "      <td>1970-12-02</td>\n",
       "      <td>114912.109</td>\n",
       "    </tr>\n",
       "    <tr>\n",
       "      <th>2</th>\n",
       "      <td>1970-12-03</td>\n",
       "      <td>114928.125</td>\n",
       "    </tr>\n",
       "    <tr>\n",
       "      <th>3</th>\n",
       "      <td>1970-12-04</td>\n",
       "      <td>115151.953</td>\n",
       "    </tr>\n",
       "    <tr>\n",
       "      <th>4</th>\n",
       "      <td>1970-12-05</td>\n",
       "      <td>115648.047</td>\n",
       "    </tr>\n",
       "  </tbody>\n",
       "</table>\n",
       "</div>"
      ],
      "text/plain": [
       "     datetime     storage\n",
       "0  1970-12-01  114655.859\n",
       "1  1970-12-02  114912.109\n",
       "2  1970-12-03  114928.125\n",
       "3  1970-12-04  115151.953\n",
       "4  1970-12-05  115648.047"
      ]
     },
     "execution_count": 43,
     "metadata": {},
     "output_type": "execute_result"
    }
   ],
   "source": [
    "Morrow_Point_Reservoir.head()"
   ]
  },
  {
   "cell_type": "code",
   "execution_count": 44,
   "id": "6c6d2213",
   "metadata": {},
   "outputs": [],
   "source": [
    "url22 = 'https://www.usbr.gov/uc/water/hydrodata/reservoir_data/916/csv/17.csv'\n",
    "r22 = requests.get(url22)\n",
    "open('Fontenelle_Reservoir.csv', \"wb\").write(r22.content)\n",
    "Fontenelle_Reservoir = pd.read_csv('Fontenelle_Reservoir.csv')"
   ]
  },
  {
   "cell_type": "code",
   "execution_count": 45,
   "id": "6d92ce79",
   "metadata": {},
   "outputs": [
    {
     "data": {
      "text/html": [
       "<div>\n",
       "<style scoped>\n",
       "    .dataframe tbody tr th:only-of-type {\n",
       "        vertical-align: middle;\n",
       "    }\n",
       "\n",
       "    .dataframe tbody tr th {\n",
       "        vertical-align: top;\n",
       "    }\n",
       "\n",
       "    .dataframe thead th {\n",
       "        text-align: right;\n",
       "    }\n",
       "</style>\n",
       "<table border=\"1\" class=\"dataframe\">\n",
       "  <thead>\n",
       "    <tr style=\"text-align: right;\">\n",
       "      <th></th>\n",
       "      <th>datetime</th>\n",
       "      <th>storage</th>\n",
       "    </tr>\n",
       "  </thead>\n",
       "  <tbody>\n",
       "    <tr>\n",
       "      <th>0</th>\n",
       "      <td>1965-10-25</td>\n",
       "      <td>27965.0</td>\n",
       "    </tr>\n",
       "    <tr>\n",
       "      <th>1</th>\n",
       "      <td>1965-10-26</td>\n",
       "      <td>28171.0</td>\n",
       "    </tr>\n",
       "    <tr>\n",
       "      <th>2</th>\n",
       "      <td>1965-10-27</td>\n",
       "      <td>28171.0</td>\n",
       "    </tr>\n",
       "    <tr>\n",
       "      <th>3</th>\n",
       "      <td>1965-10-28</td>\n",
       "      <td>27761.0</td>\n",
       "    </tr>\n",
       "    <tr>\n",
       "      <th>4</th>\n",
       "      <td>1965-10-29</td>\n",
       "      <td>27557.0</td>\n",
       "    </tr>\n",
       "  </tbody>\n",
       "</table>\n",
       "</div>"
      ],
      "text/plain": [
       "     datetime  storage\n",
       "0  1965-10-25  27965.0\n",
       "1  1965-10-26  28171.0\n",
       "2  1965-10-27  28171.0\n",
       "3  1965-10-28  27761.0\n",
       "4  1965-10-29  27557.0"
      ]
     },
     "execution_count": 45,
     "metadata": {},
     "output_type": "execute_result"
    }
   ],
   "source": [
    "Fontenelle_Reservoir.head()"
   ]
  },
  {
   "cell_type": "code",
   "execution_count": 46,
   "id": "2fa9e596",
   "metadata": {},
   "outputs": [],
   "source": [
    "url22 = 'https://www.usbr.gov/uc/water/hydrodata/reservoir_data/917/csv/17.csv'\n",
    "r22 = requests.get(url22)\n",
    "open('Flaming_Gorge_Reservoir.csv', \"wb\").write(r22.content)\n",
    "Flaming_Gorge_Reservoir = pd.read_csv('Flaming_Gorge_Reservoir.csv')"
   ]
  },
  {
   "cell_type": "code",
   "execution_count": 47,
   "id": "5806bb47",
   "metadata": {},
   "outputs": [
    {
     "data": {
      "text/html": [
       "<div>\n",
       "<style scoped>\n",
       "    .dataframe tbody tr th:only-of-type {\n",
       "        vertical-align: middle;\n",
       "    }\n",
       "\n",
       "    .dataframe tbody tr th {\n",
       "        vertical-align: top;\n",
       "    }\n",
       "\n",
       "    .dataframe thead th {\n",
       "        text-align: right;\n",
       "    }\n",
       "</style>\n",
       "<table border=\"1\" class=\"dataframe\">\n",
       "  <thead>\n",
       "    <tr style=\"text-align: right;\">\n",
       "      <th></th>\n",
       "      <th>datetime</th>\n",
       "      <th>storage</th>\n",
       "    </tr>\n",
       "  </thead>\n",
       "  <tbody>\n",
       "    <tr>\n",
       "      <th>0</th>\n",
       "      <td>1962-12-02</td>\n",
       "      <td>200.000763</td>\n",
       "    </tr>\n",
       "    <tr>\n",
       "      <th>1</th>\n",
       "      <td>1962-12-03</td>\n",
       "      <td>1200.000730</td>\n",
       "    </tr>\n",
       "    <tr>\n",
       "      <th>2</th>\n",
       "      <td>1962-12-04</td>\n",
       "      <td>2099.998540</td>\n",
       "    </tr>\n",
       "    <tr>\n",
       "      <th>3</th>\n",
       "      <td>1962-12-05</td>\n",
       "      <td>3000.000000</td>\n",
       "    </tr>\n",
       "    <tr>\n",
       "      <th>4</th>\n",
       "      <td>1962-12-06</td>\n",
       "      <td>3899.997800</td>\n",
       "    </tr>\n",
       "  </tbody>\n",
       "</table>\n",
       "</div>"
      ],
      "text/plain": [
       "     datetime      storage\n",
       "0  1962-12-02   200.000763\n",
       "1  1962-12-03  1200.000730\n",
       "2  1962-12-04  2099.998540\n",
       "3  1962-12-05  3000.000000\n",
       "4  1962-12-06  3899.997800"
      ]
     },
     "execution_count": 47,
     "metadata": {},
     "output_type": "execute_result"
    }
   ],
   "source": [
    "Flaming_Gorge_Reservoir.head()"
   ]
  },
  {
   "cell_type": "code",
   "execution_count": 48,
   "id": "a14563c0",
   "metadata": {},
   "outputs": [],
   "source": [
    "# Renaming the Columns\n",
    "\n",
    "Lake_Mead.rename(columns = {\"storage\":\"Lake_Mead\"}, inplace =True)\n",
    "Wilard_Bay_Reservoir.rename(columns = {\"storage\":\"Wilard_Bay_Reservoir\"},\\\n",
    "inplace =True)\n",
    "Lake_Nighthorse.rename(columns = {\"storage\":\"Lake_Nighthorse\"}, inplace =True)\n",
    "Pineview_Reservoir.rename(columns = {\"storage\":\"Pineview_Reservoir\"},\\\n",
    "inplace =True)\n",
    "Scofield_Reservoir.rename(columns = {\"storage\":\"Scofield_Reservoir\"},\\\n",
    "inplace =True)\n",
    "Strawberry_Reservoir.rename(columns = {\"storage\":\"Strawberry_Reservoir\"},\\\n",
    "inplace =True)\n",
    "Granby_Reservoir.rename(columns = {\"storage\":\"Granby_Reservoir\"},\\\n",
    "inplace =True)\n",
    "Heron_Reservoir.rename(columns = {\"storage\":\"Heron_Reservoir\"}, inplace =True)\n",
    "Jordanelle_Reservoir.rename(columns = {\"storage\":\"Jordanelle_Reservoir\"},\\\n",
    "inplace =True)\n",
    "Lake_Havasu.rename(columns = {\"storage\":\"Lake_Havasu\"}, inplace =True)\n",
    "Lake_Mohave.rename(columns = {\"storage\":\"Lake_Mohave\"}, inplace =True)\n",
    "Vallecito_Reservoir.rename(columns = {\"storage\":\"Vallecito_Reservoir\"},\\\n",
    "inplace =True)\n",
    "Taylor_Park_Reservoir.rename(columns = {\"storage\":\"Taylor_Park_Reservoir\"},\\\n",
    "inplace =True)\n",
    "Starvation_Reservoir.rename(columns = {\"storage\":\"Starvation_Reservoir\"},\\\n",
    "inplace =True)\n",
    "Ridgway_Reservoir.rename(columns = {\"storage\":\"Ridgway_Reservoir\"},\\\n",
    "inplace =True)\n",
    "Navajo_Reservoir.rename(columns = {\"storage\":\"Navajo_Reservoir\"},\\\n",
    "inplace =True)\n",
    "Morrow_Point_Reservoir.rename(columns = {\"storage\":\"Morrow_Point_Reservoir\"},\\\n",
    "inplace =True)\n",
    "McPhee_Reservoir.rename(columns = {\"storage\":\"McPhee_Reservoir\"},\\\n",
    "inplace =True)\n",
    "Lake_Powell.rename(columns = {\"storage\":\"Lake_Powell\"}, inplace =True)\n",
    "Fontenelle_Reservoir.rename(columns = {\"storage\":\"Fontenelle_Reservoir\"},\\\n",
    "inplace =True)\n",
    "Flaming_Gorge_Reservoir.rename(columns = {\"storage\":\"Flaming_Gorge_Reservoir\"},\\\n",
    "inplace =True)\n",
    "Crystal_Reservoir.rename(columns = {\"storage\":\"Crystal_Reservoir\"},\\\n",
    "inplace =True)       \n",
    "Blue_Mesa_Reservoir.rename(columns = {\"storage\":\"Blue_Mesa_Reservoir\"},\\\n",
    "inplace =True)"
   ]
  },
  {
   "cell_type": "code",
   "execution_count": 49,
   "id": "54be892a",
   "metadata": {},
   "outputs": [],
   "source": [
    "\n",
    "Col_storage = pd.merge(Lake_Mead, Lake_Havasu,\\\n",
    "on ='datetime', how = 'left')\n",
    "Col_storage1 = pd.merge(Col_storage, Lake_Mohave,\\\n",
    "on ='datetime', how = 'left')\n",
    "Col_storage2 = pd.merge(Col_storage1, Lake_Powell,\\\n",
    "on ='datetime', how = 'left')\n",
    "Col_storage3 = pd.merge(Col_storage2, Lake_Nighthorse,\\\n",
    "on ='datetime', how = 'left')\n",
    "Col_storage4 = pd.merge(Col_storage3, Granby_Reservoir,\\\n",
    "on ='datetime', how = 'left')\n",
    "Col_storage5 = pd.merge(Col_storage4, Heron_Reservoir,\\\n",
    "on ='datetime', how = 'left')\n",
    "Col_storage6 = pd.merge(Col_storage5, Ridgway_Reservoir,\\\n",
    "on ='datetime', how = 'left')\n",
    "Col_storage7 = pd.merge(Col_storage6, Navajo_Reservoir,\\\n",
    "on ='datetime', how = 'left')\n",
    "Col_storage8 = pd.merge(Col_storage7, McPhee_Reservoir,\\\n",
    "on ='datetime', how = 'left')\n",
    "Col_storage9 = pd.merge(Col_storage8, Pineview_Reservoir,\\\n",
    "on ='datetime', how = 'left')\n",
    "Col_storage10 = pd.merge(Col_storage9, Scofield_Reservoir,\\\n",
    "on ='datetime', how = 'left')\n",
    "Col_storage11 = pd.merge(Col_storage10, Vallecito_Reservoir,\\\n",
    "on ='datetime', how = 'left')\n",
    "Col_storage12 = pd.merge(Col_storage11, Blue_Mesa_Reservoir,\\\n",
    "on ='datetime', how = 'left')\n",
    "Col_storage13 = pd.merge(Col_storage12, Wilard_Bay_Reservoir,\\\n",
    "on ='datetime', how = 'left')\n",
    "Col_storage14 = pd.merge(Col_storage13, Strawberry_Reservoir,\\\n",
    "on ='datetime', how = 'left')\n",
    "Col_storage15 = pd.merge(Col_storage14, Jordanelle_Reservoir,\\\n",
    "on ='datetime', how = 'left')\n",
    "Col_storage16 = pd.merge(Col_storage15, Taylor_Park_Reservoir,\\\n",
    "on ='datetime', how = 'left')\n",
    "Col_storage17 = pd.merge(Col_storage16, Starvation_Reservoir,\\\n",
    "on ='datetime', how = 'left')\n",
    "Col_storage18 = pd.merge(Col_storage17, Morrow_Point_Reservoir,\\\n",
    "on ='datetime', how = 'left')\n",
    "Col_storage19 = pd.merge(Col_storage18, Fontenelle_Reservoir,\\\n",
    "on ='datetime', how = 'left')\n",
    "Col_storage20 = pd.merge(Col_storage19, Flaming_Gorge_Reservoir,\\\n",
    "on ='datetime', how = 'left')\n",
    "Col_storage_uptodate = pd.merge(Col_storage20, Crystal_Reservoir,\\\n",
    "on ='datetime', how = 'left')"
   ]
  },
  {
   "cell_type": "code",
   "execution_count": 50,
   "id": "78bccbb8",
   "metadata": {},
   "outputs": [],
   "source": [
    "Col_storage_uptodate['ds'] = pd.to_datetime(Col_storage_uptodate['datetime'])\n",
    "Col_storage_uptodate = Col_storage_uptodate.fillna(0)"
   ]
  },
  {
   "cell_type": "code",
   "execution_count": 51,
   "id": "7dc39b92",
   "metadata": {},
   "outputs": [],
   "source": [
    "col_res_list = ['Lake_Mead', \"Lake_Mohave\", \"Lake_Havasu\", \"Lake_Powell\",\\\n",
    "\"Lake_Nighthorse\",\"Granby_Reservoir\", \"Crystal_Reservoir\",\\\n",
    "\"Heron_Reservoir\",\"Ridgway_Reservoir\", \"Navajo_Reservoir\",\\\n",
    "\"McPhee_Reservoir\", \"Pineview_Reservoir\", \"Scofield_Reservoir\",\\\n",
    "\"Vallecito_Reservoir\", \"Blue_Mesa_Reservoir\", \"Wilard_Bay_Reservoir\",\\\n",
    "\"Strawberry_Reservoir\", \"Jordanelle_Reservoir\", \"Taylor_Park_Reservoir\",\\\n",
    "\"Starvation_Reservoir\", \"Morrow_Point_Reservoir\", \"Fontenelle_Reservoir\",\\\n",
    "\"Flaming_Gorge_Reservoir\"]    "
   ]
  },
  {
   "cell_type": "code",
   "execution_count": 52,
   "id": "a1bc2097",
   "metadata": {},
   "outputs": [],
   "source": [
    "Col_storage_uptodate['y_init'] = Col_storage_uptodate\\\n",
    "[col_res_list].sum(axis=1)"
   ]
  },
  {
   "cell_type": "code",
   "execution_count": 53,
   "id": "4c34f9b5",
   "metadata": {},
   "outputs": [],
   "source": [
    "Col_storage_uptodate_2000 = Col_storage_uptodate[Col_storage_uptodate\\\n",
    "['ds'].dt.year > 1999]"
   ]
  },
  {
   "cell_type": "code",
   "execution_count": 54,
   "id": "6a010ef0",
   "metadata": {},
   "outputs": [
    {
     "name": "stderr",
     "output_type": "stream",
     "text": [
      "C:\\Users\\eincr\\AppData\\Local\\Temp/ipykernel_59116/2222602999.py:3: SettingWithCopyWarning: \n",
      "A value is trying to be set on a copy of a slice from a DataFrame.\n",
      "Try using .loc[row_indexer,col_indexer] = value instead\n",
      "\n",
      "See the caveats in the documentation: https://pandas.pydata.org/pandas-docs/stable/user_guide/indexing.html#returning-a-view-versus-a-copy\n",
      "  Col_storage_uptodate_2000['y'] = funcs.acre_feet_to_Mgal((Col_storage_uptodate_2000\\\n"
     ]
    }
   ],
   "source": [
    "Col_storage_uptodate['y'] = funcs.acre_feet_to_Mgal((Col_storage_uptodate['y_init'])\\\n",
    "/ 1000)                               \n",
    "Col_storage_uptodate_2000['y'] = funcs.acre_feet_to_Mgal((Col_storage_uptodate_2000\\\n",
    "['y_init'])/ 1000)"
   ]
  },
  {
   "cell_type": "code",
   "execution_count": 55,
   "id": "c266d2ae",
   "metadata": {},
   "outputs": [],
   "source": [
    "threshold_date = pd.to_datetime('2021-01-01')\n",
    "mask1 = Col_storage_uptodate['ds'] < threshold_date\n",
    "mask2 = Col_storage_uptodate_2000['ds'] < threshold_date\n",
    "\n",
    "df_train1 = Col_storage_uptodate[mask1][['ds', 'y']]\n",
    "df_test1 = Col_storage_uptodate[~ mask1][['ds', 'y']]\n",
    "df_train2 = Col_storage_uptodate_2000[mask2][['ds', 'y']]\n",
    "df_test2 = Col_storage_uptodate_2000[~ mask2][['ds', 'y']]"
   ]
  },
  {
   "cell_type": "code",
   "execution_count": 56,
   "id": "553b7df7",
   "metadata": {
    "scrolled": true
   },
   "outputs": [
    {
     "name": "stderr",
     "output_type": "stream",
     "text": [
      "Importing plotly failed. Interactive plots will not work.\n",
      "06:58:29 - cmdstanpy - INFO - Chain [1] start processing\n",
      "06:58:33 - cmdstanpy - INFO - Chain [1] done processing\n"
     ]
    }
   ],
   "source": [
    "from prophet import Prophet\n",
    "n = Prophet()\n",
    "n.fit(Col_storage_uptodate_2000);"
   ]
  },
  {
   "cell_type": "code",
   "execution_count": 57,
   "id": "afae9471",
   "metadata": {},
   "outputs": [
    {
     "data": {
      "text/html": [
       "<div>\n",
       "<style scoped>\n",
       "    .dataframe tbody tr th:only-of-type {\n",
       "        vertical-align: middle;\n",
       "    }\n",
       "\n",
       "    .dataframe tbody tr th {\n",
       "        vertical-align: top;\n",
       "    }\n",
       "\n",
       "    .dataframe thead th {\n",
       "        text-align: right;\n",
       "    }\n",
       "</style>\n",
       "<table border=\"1\" class=\"dataframe\">\n",
       "  <thead>\n",
       "    <tr style=\"text-align: right;\">\n",
       "      <th></th>\n",
       "      <th>ds</th>\n",
       "      <th>yhat</th>\n",
       "      <th>yhat_lower</th>\n",
       "      <th>yhat_upper</th>\n",
       "    </tr>\n",
       "  </thead>\n",
       "  <tbody>\n",
       "    <tr>\n",
       "      <th>0</th>\n",
       "      <td>2000-01-01</td>\n",
       "      <td>18679.729482</td>\n",
       "      <td>18138.613577</td>\n",
       "      <td>19269.191448</td>\n",
       "    </tr>\n",
       "    <tr>\n",
       "      <th>1</th>\n",
       "      <td>2000-01-02</td>\n",
       "      <td>18675.361742</td>\n",
       "      <td>18106.612470</td>\n",
       "      <td>19236.598984</td>\n",
       "    </tr>\n",
       "    <tr>\n",
       "      <th>2</th>\n",
       "      <td>2000-01-03</td>\n",
       "      <td>18671.764214</td>\n",
       "      <td>18077.558840</td>\n",
       "      <td>19224.215987</td>\n",
       "    </tr>\n",
       "    <tr>\n",
       "      <th>3</th>\n",
       "      <td>2000-01-04</td>\n",
       "      <td>18664.349375</td>\n",
       "      <td>18115.728769</td>\n",
       "      <td>19222.553840</td>\n",
       "    </tr>\n",
       "    <tr>\n",
       "      <th>4</th>\n",
       "      <td>2000-01-05</td>\n",
       "      <td>18659.136300</td>\n",
       "      <td>18124.695131</td>\n",
       "      <td>19215.024048</td>\n",
       "    </tr>\n",
       "  </tbody>\n",
       "</table>\n",
       "</div>"
      ],
      "text/plain": [
       "          ds          yhat    yhat_lower    yhat_upper\n",
       "0 2000-01-01  18679.729482  18138.613577  19269.191448\n",
       "1 2000-01-02  18675.361742  18106.612470  19236.598984\n",
       "2 2000-01-03  18671.764214  18077.558840  19224.215987\n",
       "3 2000-01-04  18664.349375  18115.728769  19222.553840\n",
       "4 2000-01-05  18659.136300  18124.695131  19215.024048"
      ]
     },
     "execution_count": 57,
     "metadata": {},
     "output_type": "execute_result"
    }
   ],
   "source": [
    "realtime_future = n.make_future_dataframe(periods=3023)\n",
    "realtime_forecast = n.predict(realtime_future)\n",
    "realtime_forecast[['ds', 'yhat', 'yhat_lower', 'yhat_upper']].head()"
   ]
  },
  {
   "cell_type": "code",
   "execution_count": 58,
   "id": "cfdb6fa8",
   "metadata": {},
   "outputs": [
    {
     "data": {
      "image/png": "[encoded data removed]",
      "text/plain": [
       "<Figure size 1008x576 with 1 Axes>"
      ]
     },
     "metadata": {},
     "output_type": "display_data"
    }
   ],
   "source": [
    "from matplotlib import pyplot as plt\n",
    "%matplotlib inline\n",
    "fig = n.plot(realtime_forecast, xlabel='Year', ylabel= '1000 MGal', figsize=[14, 8])\n",
    "plt.rcParams.update({'font.size': 23})\n",
    "plt.title('Up-to-Date Forecast with Reservoir Storage Data Since 2000')\n",
    "plt.ylim(0)\n",
    "plt.savefig('./images/Up-to-Date_Reservoir_Forecast_2000_raw.png')"
   ]
  },
  {
   "cell_type": "code",
   "execution_count": 77,
   "id": "30d161db",
   "metadata": {},
   "outputs": [
    {
     "data": {
      "image/png": "[encoded data removed]",
      "text/plain": [
       "<Figure size 1296x720 with 1 Axes>"
      ]
     },
     "metadata": {
      "needs_background": "light"
     },
     "output_type": "display_data"
    }
   ],
   "source": [
    "# This plots the performance of the 2020 model.  The data \n",
    "# from 2021 (in red) is inside of the predicted range. \n",
    "import seaborn as sns\n",
    "\n",
    "mask2b = realtime_forecast['ds'] < threshold_date\n",
    "\n",
    "forecast_train2b = realtime_forecast[mask2b]\n",
    "forecast_test2b = realtime_forecast[~ mask2b]\n",
    "\n",
    "fig, ax = plt.subplots(figsize=[18, 10])\n",
    "\n",
    "ax.fill_between(\n",
    "    x=realtime_forecast['ds'],\n",
    "    y1=realtime_forecast['yhat_lower'],\n",
    "    y2=realtime_forecast['yhat_upper'],\n",
    "    color=\"c\", \n",
    "    alpha=0.20,\n",
    "    label=r'0.95 credible_interval'\n",
    ")\n",
    "\n",
    "sns.lineplot(x='ds', y='y', label='y_train', data=df_train2, ax=ax)\n",
    "sns.lineplot(x='ds', y='y', label='y_test', data=df_test2,\\\n",
    "ax=ax,  color = 'red')\n",
    "sns.lineplot(x='ds', y='yhat', label='y_hat', data=realtime_forecast, ax=ax,\\\n",
    "color = \"orange\")\n",
    "ax.axvline(threshold_date, color= \"black\", linestyle='--',\\\n",
    "label='train test split')\n",
    "ax.legend(loc='lower left')\n",
    "ax.set(title='Confidence Intervals for the Up-to-Date Model',\\\n",
    "ylabel='1000 Mgal', xlabel = \"Year\")\n",
    "plt.ylim(0);\n",
    "plt.savefig('./images/Up-to-Date-Reservoir_Forecast_2000_train_test_split.png')"
   ]
  },
  {
   "cell_type": "code",
   "execution_count": 69,
   "id": "4f7899ce",
   "metadata": {},
   "outputs": [
    {
     "data": {
      "text/plain": [
       "31185    7081.762118\n",
       "31186    7078.819780\n",
       "31187    7077.195775\n",
       "31188    7051.498573\n",
       "31189    6655.954043\n",
       "Name: y, dtype: float64"
      ]
     },
     "execution_count": 69,
     "metadata": {},
     "output_type": "execute_result"
    }
   ],
   "source": [
    "Col_storage_uptodate_2000['y'].tail()"
   ]
  },
  {
   "cell_type": "code",
   "execution_count": 76,
   "id": "a1f19fca",
   "metadata": {},
   "outputs": [
    {
     "name": "stdout",
     "output_type": "stream",
     "text": [
      "R2 of Up-to-Date test: 0.4886788169978553\n",
      "------------------------------\n",
      "Mean Absolute Error: 550.183405399651\n"
     ]
    }
   ],
   "source": [
    "# This calculates the r-squared and the mean absolute error of \n",
    "# train and the test portions of the model.  \n",
    "from sklearn.metrics import r2_score, mean_absolute_error\n",
    "\n",
    "\n",
    "future_uptodate = n.make_future_dataframe(periods=0) \n",
    "forecast_uptodate = n.predict(df=future_uptodate)\n",
    "mask3 = forecast_uptodate['ds'] < threshold_date\n",
    "forecast_test_uptodate = forecast_uptodate[~ mask3]\n",
    "\n",
    "print('R2 of Up-to-Date test: {}'.format(r2_score(y_true=df_test2['y'],\\\n",
    "y_pred=forecast_test_uptodate['yhat'])))\n",
    "print('---'*10)\n",
    "print('Mean Absolute Error: {}'.format(mean_absolute_error\\\n",
    "(y_true=df_test2['y'], y_pred=forecast_test_uptodate['yhat'])))"
   ]
  },
  {
   "cell_type": "code",
   "execution_count": null,
   "id": "72c1b764",
   "metadata": {},
   "outputs": [],
   "source": []
  }
 ],
 "metadata": {
  "kernelspec": {
   "display_name": "Python (learn-env)",
   "language": "python",
   "name": "learn-env"
  },
  "language_info": {
   "codemirror_mode": {
    "name": "ipython",
    "version": 3
   },
   "file_extension": ".py",
   "mimetype": "text/x-python",
   "name": "python",
   "nbconvert_exporter": "python",
   "pygments_lexer": "ipython3",
   "version": "3.9.7"
  }
 },
 "nbformat": 4,
 "nbformat_minor": 5
}
